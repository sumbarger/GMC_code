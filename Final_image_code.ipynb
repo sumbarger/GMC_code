{
 "cells": [
  {
   "cell_type": "code",
   "execution_count": 1,
   "id": "aa6b2a73-1459-4952-b7c9-966b05d8b303",
   "metadata": {},
   "outputs": [],
   "source": [
    "import sys\n",
    "sys.path.append(\"/Users/stevenumbarger/Research/Sarah/Jupyter_notebooks/GMC project/\") \n",
    "import gizmo_analysis as gizmo \n",
    "import utilities as ut\n",
    "from fof_analysis import fof\n",
    "import numpy as np\n",
    "import pandas as pd\n",
    "from matplotlib import pylab as plt\n",
    "from matplotlib import rc #to use Latex math symbols like 'phi'\n",
    "import matplotlib.colors as colors\n",
    "import matplotlib.gridspec as gridspec\n",
    "import seaborn as sns\n",
    "from astropy.table import Table\n",
    "from astropy.io import ascii\n",
    "import pickle"
   ]
  },
  {
   "cell_type": "code",
   "execution_count": 2,
   "id": "e525f49b-fbb3-4355-869a-64daee34d0d2",
   "metadata": {},
   "outputs": [],
   "source": [
    "b_parsec    = 4\n",
    "b_kpc       = b_parsec / 1000.\n",
    "ncut_min    = 5\n",
    "age_cut_Myr = 3 #Myr\n",
    "age_cut_Gyr = age_cut_Myr / 1000. #Gyr\n",
    "softening   = 4. #res 7100\n",
    "snaps       = [622]\n",
    "\n",
    "simname     = 'm12m_res7100'\n",
    "simdir      = '/Users/stevenumbarger/Research/Sarah/Jupyter_notebooks/GMC project/sims/m12m_res7100/'"
   ]
  },
  {
   "cell_type": "code",
   "execution_count": 3,
   "id": "9b110e6e-3c29-48b9-b1a9-76bf962dbeba",
   "metadata": {},
   "outputs": [
    {
     "name": "stdout",
     "output_type": "stream",
     "text": [
      "\n",
      "# in utilities.simulation.Snapshot():\n",
      "* reading:  Users/stevenumbarger/Research/Sarah/Jupyter_notebooks/GMC project/sims/m12m_res7100/snapshot_times.txt\n",
      "\n",
      "  using snapshot index = 622, redshift = 0.005\n",
      "\n",
      "\n",
      "# in gizmo_analysis.gizmo_io.Read():\n",
      "* reading header from:  Users/stevenumbarger/Research/Sarah/Jupyter_notebooks/GMC project/sims/m12m_res7100/output/snapshot_622/snapshot_622.0.hdf5\n",
      "  snapshot contains the following number of particles:\n",
      "    dark      (id = 1): 140876456 particles\n",
      "    dark2     (id = 2): 10063684 particles\n",
      "    gas       (id = 0): 116800727 particles\n",
      "    star      (id = 4): 25286033 particles\n",
      "    blackhole (id = 5): 0 particles\n",
      "\n",
      "* reading the following\n",
      "  species: ['star']\n",
      "\n",
      "* reading particles from:\n",
      "    snapshot_622.0.hdf5\n",
      "    snapshot_622.1.hdf5\n",
      "    snapshot_622.2.hdf5\n",
      "    snapshot_622.3.hdf5\n",
      "    snapshot_622.4.hdf5\n",
      "    snapshot_622.5.hdf5\n",
      "    snapshot_622.6.hdf5\n",
      "    snapshot_622.7.hdf5\n",
      "\n",
      "! cannot find MUSIC config file:  Users/stevenumbarger/Research/Sarah/Jupyter_notebooks/GMC project/sims/m12m_res7100/*/*.conf\n",
      "! missing cosmological parameters, assuming the following (from AGORA):\n",
      "  assuming omega_baryon = 0.0455\n",
      "  assuming sigma_8 = 0.807\n",
      "  assuming n_s = 0.961\n",
      "\n",
      "* checking sanity of particle properties\n",
      "! warning: star mass [min, med, max] = [3014.687, 5471.772, 43275.906]\n",
      "\n",
      "  cannot read file containing hosts coordinates\n",
      "  instead will assign hosts via iterative zoom on particle mass\n",
      "\n",
      "# in utilities.particle.get_center_positions():\n",
      "* assigning position for 1 center/host, via iterative zoom-in on star particle mass\n",
      "  host1 position = (37567.09, 41585.05, 46746.11) [kpc comoving]\n",
      "\n",
      "# in utilities.particle.get_center_velocities():\n",
      "* assigning velocity for 1 center/host, weighting star particles by mass\n",
      "  host1 velocity = (-182.9, -18.9, 138.7) [km / s]\n",
      "\n",
      "\n",
      "# in utilities.particle.get_principal_axes():\n",
      "* assigning rotation tensor for 1 host\n",
      "  using star particles at distance < 10.0 kpc\n",
      "  using distance < 8.3 kpc that encloses 90% of mass\n",
      "  using youngest 25% of star particles\n",
      "  host1: using star particles with age = [0.000, 3.165] Gyr\n",
      "  host1: axis ratios: min/maj = 0.121, min/med = 0.128, med/maj = 0.944\n",
      "\n"
     ]
    }
   ],
   "source": [
    "part = gizmo.io.Read.read_snapshots(['star'],'index', snaps[0], simulation_directory=simdir, assign_hosts_rotation=True, assign_hosts=True)"
   ]
  },
  {
   "cell_type": "code",
   "execution_count": 4,
   "id": "c22e5685-4f5f-411d-aa9f-4ac22a99c682",
   "metadata": {},
   "outputs": [],
   "source": [
    "pkl_path = '/Users/stevenumbarger/Research/Sarah/Jupyter_notebooks/GMC project/Cloud_pickle_618-626'\n",
    "filename = pkl_path + '/' + 'm12m_' + str(snaps[0]) + '_cluster.pkl'\n",
    "with open(filename, 'rb') as handle: \n",
    "    cl_id = pickle.load(handle)"
   ]
  },
  {
   "cell_type": "code",
   "execution_count": 5,
   "id": "a17b2d81-d87b-4e7c-be92-740fc62ef46d",
   "metadata": {},
   "outputs": [
    {
     "name": "stdout",
     "output_type": "stream",
     "text": [
      "[[103973930, 18264393, 126053772, 31610981, 72643247, 72417720, 134341360, 131719730, 65356124, 86641923, 130181517, 94553503], [129831571, 102212918, 100842664, 102349254, 82176992, 58262478, 85532438, 73235615, 94853448, 95648522, 28580198], [51820772, 65702556, 108813177, 67530277, 124789785, 120251408, 85058328, 93965488, 46305965, 118607214], [50369798, 70186653, 83912956, 136879959, 27753485, 109624891, 69808762, 69743757, 95028052], [128220780, 117566731, 88341819, 45322848, 56950636, 93202463, 114555977, 113158390], [78885052, 33146115, 103317659, 76280924, 65466603, 124769483, 40786145, 52843196], [99392816, 68248640, 89890486, 78078696, 56107581, 80136775, 60326632, 89153868], [47178673, 71152049, 114347901, 42218516, 98204987, 74045390, 102629284, 133203755], [45052546, 132885455, 67011059, 85365756, 73344833, 20454504, 129460467], [77364754, 80053901, 132220067, 45713290, 126540086], [117478247, 69170502, 117008562, 117192278, 129867350], [65702583, 67976603, 72203838, 79375471, 39089325], [100689621, 94880321, 120848869, 53035580, 85672855], [66976877, 63759291, 92969783, 32160442, 112411057], [79410039, 70465426, 132465494, 129356048, 67074445], [113780616, 57822220, 51465607, 110523193, 128012995], [47340512, 114450231, 91466636, 92291283, 19344912], [101759372, 131930837, 56390406, 97226682, 106327377]]\n"
     ]
    }
   ],
   "source": [
    "print(cl_id)"
   ]
  },
  {
   "cell_type": "code",
   "execution_count": 6,
   "id": "8f68d610-f2ee-462e-a52a-9fac0af0cc6f",
   "metadata": {},
   "outputs": [
    {
     "name": "stdout",
     "output_type": "stream",
     "text": [
      "18\n"
     ]
    }
   ],
   "source": [
    "print(len(cl_id))"
   ]
  },
  {
   "cell_type": "code",
   "execution_count": 7,
   "id": "d9465632-9362-4f9f-ac80-47c1a6e0eef2",
   "metadata": {},
   "outputs": [
    {
     "name": "stdout",
     "output_type": "stream",
     "text": [
      "[103973930, 18264393, 126053772, 31610981, 72643247, 72417720, 134341360, 131719730, 65356124, 86641923, 130181517, 94553503]\n"
     ]
    }
   ],
   "source": [
    "print(cl_id[0])"
   ]
  },
  {
   "cell_type": "code",
   "execution_count": 8,
   "id": "8970338a-afe7-46b3-a61b-5f47b235cedd",
   "metadata": {},
   "outputs": [
    {
     "name": "stdout",
     "output_type": "stream",
     "text": [
      "[101759372, 131930837, 56390406, 97226682, 106327377]\n"
     ]
    }
   ],
   "source": [
    "print(cl_id[17])"
   ]
  },
  {
   "cell_type": "code",
   "execution_count": 9,
   "id": "aaf1c3d0-b397-40ff-b068-a809e717f05f",
   "metadata": {},
   "outputs": [],
   "source": [
    "cloud_path = '/Users/stevenumbarger/Research/Sarah/Jupyter_notebooks/GMC project/Cloud_1Myr618-626/'\n",
    "data = ascii.read(cloud_path + 'cloud_props_m12m_1Myr622.txt')\n",
    "idata = ascii.read(cloud_path + 'cloud_indices_m12m_1Myr622.txt')"
   ]
  },
  {
   "cell_type": "code",
   "execution_count": 10,
   "id": "899e0fec-c370-4289-a2c8-66cb714113a1",
   "metadata": {},
   "outputs": [
    {
     "name": "stdout",
     "output_type": "stream",
     "text": [
      "['cloud number', 'xcm', 'ycm', 'zcm', 'mass', 'r_90', 'vdisp_x', 'vdisp_y', 'vdisp_z', 'alpha_vir', 'alpha_vir_s']\n"
     ]
    }
   ],
   "source": [
    "print(data.keys())"
   ]
  },
  {
   "cell_type": "code",
   "execution_count": 11,
   "id": "0ff313cf-6dd8-428f-ae0e-22671ef12aba",
   "metadata": {},
   "outputs": [
    {
     "name": "stdout",
     "output_type": "stream",
     "text": [
      "['cloud number', 'index', 'id', 'x', 'y', 'z', 'mass', 'FeH', 'OxH', 'MfFe', 'MfOx']\n"
     ]
    }
   ],
   "source": [
    "print(idata.keys())"
   ]
  },
  {
   "cell_type": "code",
   "execution_count": 12,
   "id": "c9e24279-21da-4f3f-af08-337515b93e9d",
   "metadata": {},
   "outputs": [],
   "source": [
    "MsunToGm = 1.99e33 #conversion from mass of sun to the mass of sun in grams\n",
    "KpcToCm = 3.086e21 #conversion from kiloparsecs to centimeters\n",
    "mp = 1.67e-24 #mass of a proton in mega grams\n",
    "#bin_edge = 10.\n",
    "bin_edge = 20. #to make the grid, it will be 20 kpc from the center in all directions\n",
    "##gas properties to carry around"
   ]
  },
  {
   "cell_type": "code",
   "execution_count": 13,
   "id": "462c7573-5d00-4ea7-a2b8-fde18d9776cc",
   "metadata": {},
   "outputs": [],
   "source": [
    "#creating empty lists to fill\n",
    "xg = [] #x position of gas\n",
    "yg = [] #y position of gas\n",
    "zg = [] #z position of gas\n",
    "vxg = [] #x velocity of gas\n",
    "vyg = [] #y velocity of gas\n",
    "vzg = [] #z velocity of gas\n",
    "mg = [] #mass of gas\n",
    "rhog = [] #density of gas\n",
    "tg = [] #temperature of gas\n",
    "idg = [] #id number of gas\n",
    "\n",
    "xs = [] #x position of star\n",
    "ys = [] #y position of star\n",
    "zs = [] #z position of star\n",
    "ms = [] #mass of the star\n",
    "ids = [] #id number of star\n",
    "    \n",
    "#star properties to carry around\n",
    "\n",
    "sxp = [] #star x position?\n",
    "syp = [] #star y position?\n",
    "szp = [] #star z position?\n",
    "sxp_new = [] #new star x position?\n",
    "syp_new = [] #new star y position?\n",
    "szp_new = [] #new star z position?\n",
    "sage = [] #age of the star\n",
    "\n",
    "gxp = [] #gas x position?\n",
    "gyp = [] #gas y position?\n",
    "gzp = [] #gas z position?\n",
    "\n",
    "vdispx = [] #standard deviation of vx\n",
    "vdispy = [] #standard deviation of vy\n",
    "vdispz = [] #standard deviation of vz"
   ]
  },
  {
   "cell_type": "code",
   "execution_count": 14,
   "id": "8535f725-a159-46b3-87dd-6096af7a9050",
   "metadata": {},
   "outputs": [
    {
     "name": "stdout",
     "output_type": "stream",
     "text": [
      "[622]\n"
     ]
    }
   ],
   "source": [
    "print(snaps)"
   ]
  },
  {
   "cell_type": "code",
   "execution_count": 15,
   "id": "199f215f-c097-49e2-9ebe-79e6595b1231",
   "metadata": {},
   "outputs": [],
   "source": [
    "sxcm = np.zeros(shape=(len(snaps),len(cl_id))) #empty array of star center of mass in x\n",
    "sycm = np.zeros(shape=(len(snaps),len(cl_id))) #empty array of star center of mass in y\n",
    "szcm = np.zeros(shape=(len(snaps),len(cl_id))) #empty array of star center of mass in z\n",
    "ap_num = np.zeros(shape=(len(snaps),len(cl_id))) ###Ask Sam what this is"
   ]
  },
  {
   "cell_type": "code",
   "execution_count": 16,
   "id": "0a6b11ee-7169-4e83-ba57-5ac83d157228",
   "metadata": {},
   "outputs": [],
   "source": [
    "r_ap = 0.05 ###Ask Sam what this is"
   ]
  },
  {
   "cell_type": "code",
   "execution_count": 17,
   "id": "4638d0fe-33c5-4d5d-b107-ed0ed3fa4c76",
   "metadata": {},
   "outputs": [],
   "source": [
    "point_gas = [] ###Ask Sam what this is"
   ]
  },
  {
   "cell_type": "code",
   "execution_count": 18,
   "id": "9cbe4822-f3b4-4aaa-a99c-f91c7a3a4c15",
   "metadata": {},
   "outputs": [],
   "source": [
    "tsnap = []"
   ]
  },
  {
   "cell_type": "code",
   "execution_count": null,
   "id": "619de018-e00c-44fd-a6ec-7d1b5d714a17",
   "metadata": {},
   "outputs": [],
   "source": [
    "part['star'].prop('host.distance.principal.cylindrical')[:,0] # the star radius from the center"
   ]
  },
  {
   "cell_type": "code",
   "execution_count": null,
   "id": "50d41b08-4fed-48b8-b3bb-7711955fd158",
   "metadata": {},
   "outputs": [
    {
     "name": "stdout",
     "output_type": "stream",
     "text": [
      "\n",
      "# in utilities.simulation.Snapshot():\n",
      "* reading:  Users/stevenumbarger/Research/Sarah/Jupyter_notebooks/GMC project/sims/m12m_res7100/snapshot_times.txt\n",
      "\n",
      "  using snapshot index = 622, redshift = 0.005\n",
      "\n",
      "\n",
      "# in gizmo_analysis.gizmo_io.Read():\n",
      "* reading header from:  Users/stevenumbarger/Research/Sarah/Jupyter_notebooks/GMC project/sims/m12m_res7100/output/snapshot_622/snapshot_622.0.hdf5\n",
      "  snapshot contains the following number of particles:\n",
      "    dark      (id = 1): 140876456 particles\n",
      "    dark2     (id = 2): 10063684 particles\n",
      "    gas       (id = 0): 116800727 particles\n",
      "    star      (id = 4): 25286033 particles\n",
      "    blackhole (id = 5): 0 particles\n",
      "\n",
      "* reading the following\n",
      "  species: ['star', 'gas']\n",
      "\n",
      "* reading particles from:\n",
      "    snapshot_622.0.hdf5\n",
      "    snapshot_622.1.hdf5\n",
      "    snapshot_622.2.hdf5\n",
      "    snapshot_622.3.hdf5\n",
      "    snapshot_622.4.hdf5\n",
      "    snapshot_622.5.hdf5\n",
      "    snapshot_622.6.hdf5\n",
      "    snapshot_622.7.hdf5\n",
      "\n",
      "! cannot find MUSIC config file:  Users/stevenumbarger/Research/Sarah/Jupyter_notebooks/GMC project/sims/m12m_res7100/*/*.conf\n",
      "! missing cosmological parameters, assuming the following (from AGORA):\n",
      "  assuming omega_baryon = 0.0455\n",
      "  assuming sigma_8 = 0.807\n",
      "  assuming n_s = 0.961\n",
      "\n",
      "* checking sanity of particle properties\n",
      "! warning: star mass [min, med, max] = [3014.687, 5471.772, 43275.906]\n",
      "\n",
      "  cannot read file containing hosts coordinates\n",
      "  instead will assign hosts via iterative zoom on particle mass\n",
      "\n",
      "# in utilities.particle.get_center_positions():\n",
      "* assigning position for 1 center/host, via iterative zoom-in on star particle mass\n",
      "  host1 position = (37567.09, 41585.05, 46746.11) [kpc comoving]\n",
      "\n",
      "# in utilities.particle.get_center_velocities():\n",
      "* assigning velocity for 1 center/host, weighting star particles by mass\n",
      "  host1 velocity = (-182.9, -18.9, 138.7) [km / s]\n",
      "\n",
      "\n",
      "# in utilities.particle.get_principal_axes():\n",
      "* assigning rotation tensor for 1 host\n",
      "  using star particles at distance < 10.0 kpc\n",
      "  using distance < 8.3 kpc that encloses 90% of mass\n",
      "  using youngest 25% of star particles\n",
      "  host1: using star particles with age = [0.000, 3.165] Gyr\n",
      "  host1: axis ratios: min/maj = 0.121, min/med = 0.128, med/maj = 0.944\n",
      "\n"
     ]
    }
   ],
   "source": [
    "for i in range(len(snaps)): #if i is in the range of the length of snaps\n",
    "    #/home/smbeninc/scr/m12m/m12m_res7100/ #where it is located\n",
    "    ################################################################################################# reads in snapshots\n",
    "    #part = gizmo.io.Read.read_snapshots('all', 'snapshot_index', snaps[i],assign_host_principal_axes=True)\n",
    "    #read the snapshot\n",
    "\n",
    "    part = gizmo.io.Read.read_snapshots(['star', 'gas'],'index', snaps[i], simulation_directory=simdir, assign_hosts_rotation=True, assign_hosts=True)\n",
    "    ################################################################################################# reads in snapshots\n",
    "    \n",
    "    tsnap.append(np.max(part['star'].prop('form.time'))) #add the max star form time to the snap times\n",
    "\n",
    "    ig = np.where((part['gas'].prop('host.distance.principal.cylindrical')[:,0] <= bin_edge) & (np.fabs(part['gas'].prop('host.distance.principal.cartesian')[:,2]) <= 1.5) & (part['gas']['temperature'] <= 1e4))\n",
    "    #get the indices where the gas cylindrical radius is less than or equal to the bin edge and \n",
    "    #the cartesian distance height is less than or equal to 1.5 and the gas temperature is less than 10000, cold\n",
    "    #index gas\n",
    "    \n",
    "    ist = np.where((part['star'].prop('host.distance.principal.cylindrical')[:,0] <= bin_edge) & (np.fabs(part['star'].prop('host.distance.principal.cartesian')[:,2]) <= 1.5))\n",
    "    #get the indices where the star cylindrical radius is less than or equal to the bin edge and\n",
    "    #the cartesian distance is less than or equal to 1.5\n",
    "    #can change the variable to is to be easier\n",
    "    \n",
    "    xg.append(part['gas'].prop('host.distance.principal.cartesian')[ig[0],0]) \n",
    "    #add the cartesian x coordinate of ig to the x values of the gas of the empty array\n",
    "    yg.append(part['gas'].prop('host.distance.principal.cartesian')[ig[0],1])\n",
    "    #add the cartesian y coordinate of ig to the y values of the gas\n",
    "    zg.append(part['gas'].prop('host.distance.principal.cartesian')[ig[0],2])\n",
    "    #add the cartesian z coordinate of ig to the z values of the gas\n",
    "    \n",
    "    vxg.append(part['gas'].prop('host.velocity.principal.cartesian')[ig[0],0])\n",
    "    #add the x velocity of ig to the x velocity values of the gas of the empty array\n",
    "    vyg.append(part['gas'].prop('host.velocity.principal.cartesian')[ig[0],1])\n",
    "    #add the y velocity of ig to the y velocity values of the gas\n",
    "    vzg.append(part['gas'].prop('host.velocity.principal.cartesian')[ig[0],2])\n",
    "    #add the z velocity of ig to the z velocity values of the gas\n",
    "    \n",
    "    mg.append(part['gas']['mass'][ig])\n",
    "    #add the mass of ig to the mass values of the gas\n",
    "    rhog.append(part['gas'].prop('number.density')[ig])\n",
    "    #add the number density of ig to the density values of the gas\n",
    "    #take a look to see the density\n",
    "    tg.append(part['gas']['temperature'][ig])\n",
    "    #add the temperature of ig to the temperature values of the gas\n",
    "    idg.append(part['gas']['id'][ig])\n",
    "    #add the id of ig to the id values of the gas particle\n",
    "    \n",
    "    xs.append(part['star'].prop('host.distance.principal.cartesian')[ist[0],0])\n",
    "    #add the cartesian x coordinate of ist to the x values of the stars\n",
    "    ys.append(part['star'].prop('host.distance.principal.cartesian')[ist[0],1])\n",
    "    #add the cartesian y coordinate of ist to the y values of the stars\n",
    "    zs.append(part['star'].prop('host.distance.principal.cartesian')[ist[0],2])\n",
    "    #add the cartesian z coordinate of ist to the z values of the stars\n",
    "    ms.append(part['star']['mass'][ist])\n",
    "    #add the mass of ist to the mass values of the stars\n",
    "    ids.append(part['star']['id'][ist])\n",
    "    #add the id of ist to the id values of the stars\n",
    "    sage.append(part['star'].prop('age')[ist]*1000.) #converting age to Mega years instead of G Year\n",
    "    #add the age of ist to the age values of the stars\n",
    "        \n",
    "    msh = np.array(ms[i])\n",
    "    #assign variable msh to be the array of the mass of stars of i\n",
    "    xsh = np.array(xs[i])\n",
    "    #assign variable xsh to be the array of the x coordinates of the stars of i\n",
    "    ysh = np.array(ys[i])\n",
    "    #assign variable ysh to be the array of the y coordinates of the stars of i\n",
    "    zsh = np.array(zs[i])\n",
    "    #assign variable zsh to be the array of the z coordinates of the stars of i\n",
    "\n",
    "    mgh = np.array(mg[i])\n",
    "    #assign variable mgh to be the array of the mass of the gas of i\n",
    "    xgh = np.array(xg[i])\n",
    "    #assign variable xgh to be the array of the x coordinates of the gas of i\n",
    "    ygh = np.array(yg[i])\n",
    "    #assign variable ygh to be the array of the y coordinates of the gas of i\n",
    "    zgh = np.array(zg[i])\n",
    "    #assign variable zgh to be the array of the z coordinates of the gas of i\n",
    "\n",
    "    vxgh = np.array(vxg[i])\n",
    "    #assign variable vxgh to be the array of the x velocity of the gas of i\n",
    "    vygh = np.array(vyg[i])\n",
    "    #assign variable vygh to be the array of the y velocity of the gas of i\n",
    "    vzgh = np.array(vzg[i])\n",
    "    #assign variable vzgh to be the array of the z velocity of the gas of i\n",
    "    \n",
    "    for j in range(len(cl_id)):\n",
    "        #when it is in the range of the length of the pickle file we opened\n",
    "        cl = cl_id[j] #assign variable cl to be the points in the range of the pickle file m12m\n",
    "        ind = [] #creating a list for indices that belong to a cloud\n",
    "        check = [] #creating a list to look at the number of particles in each cloud\n",
    "        print(j, ind, check) #print the j, ind, and check, an empty list\n",
    "        for k in range(len(cl)): #making sure the actual id numbers match with id numbers\n",
    "            #when it is in the range of the length of cl\n",
    "            ind.append(np.where(cl[k] == ids[i])[0]) \n",
    "            #add the value of cl of k is equal to the first value of the id for stars to ind\n",
    "            check.append(len(ind[k]))\n",
    "            #add the length of ind of k to the check\n",
    "        ind = np.array(ind)\n",
    "        #set variable ind to be an array of ind\n",
    "        ind2 = np.array(ind[np.where(np.array(check) == 1)[0]])\n",
    "        #set variable ind2 to be an array where the array check is equal to 1 or if the check is true\n",
    "        ind2 = ind2.astype(dtype='int') \n",
    "        #convert array ind2 to be a int type of array\n",
    "        sxcm[i,j] = np.sum(msh[ind2]*xsh[ind2])/np.sum(msh[ind2])\n",
    "        #sets up a variable as a math equation to get the star x position in centimeters\n",
    "        sycm[i,j] = np.sum(msh[ind2]*ysh[ind2])/np.sum(msh[ind2])\n",
    "        #sets up a variable as a math equation to get the star y position in centimeters\n",
    "        szcm[i,j] = np.sum(msh[ind2]*zsh[ind2])/np.sum(msh[ind2])\n",
    "        #sets up a variable as a math equation to get the star z position in centimeters\n",
    "        sxp.append(xsh[ind2])\n",
    "        #add the ind2 of the xsh to the star x position\n",
    "        syp.append(ysh[ind2])\n",
    "        #add the ind2 of the ysh to the star y position\n",
    "        szp.append(zsh[ind2])\n",
    "        #add the ind2 of the zsh to the star z position\n",
    "\n",
    "        rh = np.sqrt((xgh-sxcm[i,j])**2 + (ygh-sycm[i,j])**2 + (zgh-szcm[i,j])**2)\n",
    "        #calculate the radius/distance between gas and a star\n",
    "        rsh = np.sqrt((xsh-sxcm[i,j])**2 + (ysh-sycm[i,j])**2 + (zsh-szcm[i,j])**2)\n",
    "        #calculate the radius/distance of the stars\n",
    "        ind = np.where(rh <= r_ap)\n",
    "        #assigns variable ind to be the values where the density is less than r_ap\n",
    "        n = np.float(len(ind[0]))\n",
    "        #assigns variable n to be the floating points of the length of the first value of the array in ind\n",
    "        indst = np.where((rsh <= r_ap) & (sage[i] <= np.float(i)*2.2))\n",
    "        #assigns a variable where rsh is less than r_ap and the age is less than the floating points\n",
    "        gxp.append(xgh[ind])\n",
    "        #add the ind of the xgh to the gxp values\n",
    "        gyp.append(ygh[ind])\n",
    "        #add the ind of the ygh of the gyp values\n",
    "        sxp_new.append(xsh[indst])\n",
    "        #add the indst of the xsh to sxp_new\n",
    "        syp_new.append(ysh[indst])\n",
    "        #add the indst of the ysh to syp_new\n",
    "        \n",
    "        #appears to be a filter for \"ind\"\n",
    "        if (len(ind[0]) > 0): #if statement if it is greater than 0\n",
    "            vmean = np.average(vxgh[ind],weights=mgh[ind])\n",
    "            #calculate the average and the weights\n",
    "            vdispx.append(np.sqrt(np.sum(mgh[ind]*(vxgh[ind]-vmean)**2)/ ((n-1)*np.sum(mgh[ind])/n)))\n",
    "            #add it to vdispx\n",
    "            vmean = np.average(vygh[ind],weights=mgh[ind])\n",
    "            #calculate the average and the weights\n",
    "            vdispy.append(np.sqrt(np.sum(mgh[ind]*(vygh[ind]-vmean)**2)/ ((n-1)*np.sum(mgh[ind])/n)))\n",
    "            #add it to vdispy\n",
    "            vmean = np.average(vzgh[ind],weights=mgh[ind])\n",
    "            #calculate the average and the weights\n",
    "            vdispz.append(np.sqrt(np.sum(mgh[ind]*(vzgh[ind]-vmean)**2)/ ((n-1)*np.sum(mgh[ind])/n)))\n",
    "            #add it to vdispz\n",
    "        else: #if it is not greater than zero\n",
    "            vdispx.append(0.) #add it to vdispx\n",
    "            vdispy.append(0.) #add it to vdispy\n",
    "            vdispz.append(0.) #add it to vdispz\n"
   ]
  },
  {
   "cell_type": "code",
   "execution_count": null,
   "id": "f0ee30f1-f8be-41fe-91f5-a2c0fb45f718",
   "metadata": {},
   "outputs": [],
   "source": []
  }
 ],
 "metadata": {
  "kernelspec": {
   "display_name": "Python 3 (ipykernel)",
   "language": "python",
   "name": "python3"
  },
  "language_info": {
   "codemirror_mode": {
    "name": "ipython",
    "version": 3
   },
   "file_extension": ".py",
   "mimetype": "text/x-python",
   "name": "python",
   "nbconvert_exporter": "python",
   "pygments_lexer": "ipython3",
   "version": "3.10.9"
  }
 },
 "nbformat": 4,
 "nbformat_minor": 5
}
