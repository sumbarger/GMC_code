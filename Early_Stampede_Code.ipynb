{
 "cells": [
  {
   "cell_type": "code",
   "execution_count": 1,
   "id": "757a32a7-c418-4a7a-8076-feec26d5aed8",
   "metadata": {},
   "outputs": [
    {
     "ename": "ModuleNotFoundError",
     "evalue": "No module named 'gizmo_analysis'",
     "output_type": "error",
     "traceback": [
      "\u001b[0;31m---------------------------------------------------------------------------\u001b[0m",
      "\u001b[0;31mModuleNotFoundError\u001b[0m                       Traceback (most recent call last)",
      "Cell \u001b[0;32mIn[1], line 3\u001b[0m\n\u001b[1;32m      1\u001b[0m \u001b[38;5;28;01mimport\u001b[39;00m \u001b[38;5;21;01msys\u001b[39;00m\n\u001b[1;32m      2\u001b[0m sys\u001b[38;5;241m.\u001b[39mpath\u001b[38;5;241m.\u001b[39mappend(\u001b[38;5;124m\"\u001b[39m\u001b[38;5;124m/home1/09528/sumbarger/\u001b[39m\u001b[38;5;124m\"\u001b[39m) \n\u001b[0;32m----> 3\u001b[0m \u001b[38;5;28;01mimport\u001b[39;00m \u001b[38;5;21;01mgizmo_analysis\u001b[39;00m \u001b[38;5;28;01mas\u001b[39;00m \u001b[38;5;21;01mgizmo\u001b[39;00m \n\u001b[1;32m      4\u001b[0m \u001b[38;5;28;01mimport\u001b[39;00m \u001b[38;5;21;01mutilities\u001b[39;00m \u001b[38;5;28;01mas\u001b[39;00m \u001b[38;5;21;01mut\u001b[39;00m\n\u001b[1;32m      5\u001b[0m \u001b[38;5;66;03m#from fof_analysis import fof\u001b[39;00m\n",
      "\u001b[0;31mModuleNotFoundError\u001b[0m: No module named 'gizmo_analysis'"
     ]
    }
   ],
   "source": [
    "import sys\n",
    "sys.path.append(\"/home1/09528/sumbarger/\") \n",
    "import gizmo_analysis as gizmo \n",
    "import utilities as ut\n",
    "#from fof_analysis import fof\n",
    "import numpy as np\n",
    "import pandas as pd\n",
    "from matplotlib import pylab as plt\n",
    "from matplotlib import rc #to use Latex math symbols like 'phi'\n",
    "import matplotlib.colors as colors\n",
    "import matplotlib.gridspec as gridspec\n",
    "import seaborn as sns\n",
    "from astropy.table import Table\n",
    "from astropy.io import ascii\n",
    "import pickle"
   ]
  },
  {
   "cell_type": "code",
   "execution_count": 2,
   "id": "5ba2375b-6072-4d94-8a25-d6fa60b5ac55",
   "metadata": {},
   "outputs": [
    {
     "ename": "NameError",
     "evalue": "name 'np' is not defined",
     "output_type": "error",
     "traceback": [
      "\u001b[0;31m---------------------------------------------------------------------------\u001b[0m",
      "\u001b[0;31mNameError\u001b[0m                                 Traceback (most recent call last)",
      "Cell \u001b[0;32mIn[2], line 7\u001b[0m\n\u001b[1;32m      5\u001b[0m age_cut_Gyr \u001b[38;5;241m=\u001b[39m age_cut_Myr \u001b[38;5;241m/\u001b[39m \u001b[38;5;241m1000.\u001b[39m \u001b[38;5;66;03m#Gyr\u001b[39;00m\n\u001b[1;32m      6\u001b[0m softening   \u001b[38;5;241m=\u001b[39m \u001b[38;5;241m4.\u001b[39m \u001b[38;5;66;03m#res 7100\u001b[39;00m\n\u001b[0;32m----> 7\u001b[0m snaps \u001b[38;5;241m=\u001b[39m \u001b[43mnp\u001b[49m\u001b[38;5;241m.\u001b[39marange(\u001b[38;5;241m621\u001b[39m,\u001b[38;5;241m624\u001b[39m,\u001b[38;5;241m1\u001b[39m) \u001b[38;5;66;03m#set snaps to an arrange of values, goes from 621 to but not including 624 going up by 1\u001b[39;00m\n\u001b[1;32m      9\u001b[0m simname     \u001b[38;5;241m=\u001b[39m \u001b[38;5;124m'\u001b[39m\u001b[38;5;124mm12m_res7100\u001b[39m\u001b[38;5;124m'\u001b[39m\n\u001b[1;32m     10\u001b[0m simdir      \u001b[38;5;241m=\u001b[39m \u001b[38;5;124m'\u001b[39m\u001b[38;5;124m/scratch/projects/xsede/GalaxiesOnFIRE/metal_diffusion/m12m_r7100/1Myr\u001b[39m\u001b[38;5;124m'\u001b[39m\n",
      "\u001b[0;31mNameError\u001b[0m: name 'np' is not defined"
     ]
    }
   ],
   "source": [
    "b_parsec    = 4\n",
    "b_kpc       = b_parsec / 1000.\n",
    "ncut_min    = 5\n",
    "age_cut_Myr = 3 #Myr\n",
    "age_cut_Gyr = age_cut_Myr / 1000. #Gyr\n",
    "softening   = 4. #res 7100\n",
    "snaps = np.arange(621,624,1) #set snaps to an arrange of values, goes from 621 to but not including 624 going up by 1\n",
    "\n",
    "simname     = 'm12m_res7100'\n",
    "simdir      = '/scratch/projects/xsede/GalaxiesOnFIRE/metal_diffusion/m12m_r7100/1Myr'"
   ]
  },
  {
   "cell_type": "code",
   "execution_count": 3,
   "id": "74c36430-cfc2-4014-8d9b-ed1467825e53",
   "metadata": {},
   "outputs": [
    {
     "ename": "NameError",
     "evalue": "name 'gizmo' is not defined",
     "output_type": "error",
     "traceback": [
      "\u001b[0;31m---------------------------------------------------------------------------\u001b[0m",
      "\u001b[0;31mNameError\u001b[0m                                 Traceback (most recent call last)",
      "Cell \u001b[0;32mIn[3], line 1\u001b[0m\n\u001b[0;32m----> 1\u001b[0m part \u001b[38;5;241m=\u001b[39m \u001b[43mgizmo\u001b[49m\u001b[38;5;241m.\u001b[39mio\u001b[38;5;241m.\u001b[39mRead\u001b[38;5;241m.\u001b[39mread_snapshots([\u001b[38;5;124m'\u001b[39m\u001b[38;5;124mstar\u001b[39m\u001b[38;5;124m'\u001b[39m],\u001b[38;5;124m'\u001b[39m\u001b[38;5;124mindex\u001b[39m\u001b[38;5;124m'\u001b[39m, snaps[\u001b[38;5;241m0\u001b[39m], simulation_directory\u001b[38;5;241m=\u001b[39msimdir, assign_hosts_rotation\u001b[38;5;241m=\u001b[39m\u001b[38;5;28;01mTrue\u001b[39;00m, assign_hosts\u001b[38;5;241m=\u001b[39m\u001b[38;5;28;01mTrue\u001b[39;00m)\n",
      "\u001b[0;31mNameError\u001b[0m: name 'gizmo' is not defined"
     ]
    }
   ],
   "source": [
    "part = gizmo.io.Read.read_snapshots(['star'],'index', snaps[0], simulation_directory=simdir, assign_hosts_rotation=True, assign_hosts=True)"
   ]
  },
  {
   "cell_type": "code",
   "execution_count": 4,
   "id": "47fc2218-c24b-4237-a727-876a5ac14dc6",
   "metadata": {},
   "outputs": [
    {
     "ename": "NameError",
     "evalue": "name 'snaps' is not defined",
     "output_type": "error",
     "traceback": [
      "\u001b[0;31m---------------------------------------------------------------------------\u001b[0m",
      "\u001b[0;31mNameError\u001b[0m                                 Traceback (most recent call last)",
      "Cell \u001b[0;32mIn[4], line 2\u001b[0m\n\u001b[1;32m      1\u001b[0m pkl_path \u001b[38;5;241m=\u001b[39m \u001b[38;5;124m'\u001b[39m\u001b[38;5;124m/home1/09528/sumbarger/GMC_project/Cloud_pickle_618-626\u001b[39m\u001b[38;5;124m'\u001b[39m\n\u001b[0;32m----> 2\u001b[0m filename \u001b[38;5;241m=\u001b[39m pkl_path \u001b[38;5;241m+\u001b[39m \u001b[38;5;124m'\u001b[39m\u001b[38;5;124m/\u001b[39m\u001b[38;5;124m'\u001b[39m \u001b[38;5;241m+\u001b[39m \u001b[38;5;124m'\u001b[39m\u001b[38;5;124mm12m_\u001b[39m\u001b[38;5;124m'\u001b[39m \u001b[38;5;241m+\u001b[39m \u001b[38;5;28mstr\u001b[39m(\u001b[43msnaps\u001b[49m[\u001b[38;5;241m0\u001b[39m]) \u001b[38;5;241m+\u001b[39m \u001b[38;5;124m'\u001b[39m\u001b[38;5;124m_cluster.pkl\u001b[39m\u001b[38;5;124m'\u001b[39m\n\u001b[1;32m      3\u001b[0m \u001b[38;5;28;01mwith\u001b[39;00m \u001b[38;5;28mopen\u001b[39m(filename, \u001b[38;5;124m'\u001b[39m\u001b[38;5;124mrb\u001b[39m\u001b[38;5;124m'\u001b[39m) \u001b[38;5;28;01mas\u001b[39;00m handle: \n\u001b[1;32m      4\u001b[0m     cl_id \u001b[38;5;241m=\u001b[39m pickle\u001b[38;5;241m.\u001b[39mload(handle)\n",
      "\u001b[0;31mNameError\u001b[0m: name 'snaps' is not defined"
     ]
    }
   ],
   "source": [
    "pkl_path = '/home1/09528/sumbarger/GMC_project/Cloud_pickle_618-626'\n",
    "filename = pkl_path + '/' + 'm12m_' + str(snaps[0]) + '_cluster.pkl'\n",
    "with open(filename, 'rb') as handle: \n",
    "    cl_id = pickle.load(handle)"
   ]
  },
  {
   "cell_type": "code",
   "execution_count": 5,
   "id": "774a4964-0494-4e9d-9633-a20cdde1b0d9",
   "metadata": {},
   "outputs": [
    {
     "ename": "AttributeError",
     "evalue": "'builtin_function_or_method' object has no attribute 'read'",
     "output_type": "error",
     "traceback": [
      "\u001b[0;31m---------------------------------------------------------------------------\u001b[0m",
      "\u001b[0;31mAttributeError\u001b[0m                            Traceback (most recent call last)",
      "Cell \u001b[0;32mIn[5], line 2\u001b[0m\n\u001b[1;32m      1\u001b[0m cloud_path \u001b[38;5;241m=\u001b[39m \u001b[38;5;124m'\u001b[39m\u001b[38;5;124m/home1/09528/sumbarger/GMC_project/Cloud_1Myr618-626/\u001b[39m\u001b[38;5;124m'\u001b[39m\n\u001b[0;32m----> 2\u001b[0m data \u001b[38;5;241m=\u001b[39m \u001b[43mascii\u001b[49m\u001b[38;5;241;43m.\u001b[39;49m\u001b[43mread\u001b[49m(cloud_path \u001b[38;5;241m+\u001b[39m \u001b[38;5;124m'\u001b[39m\u001b[38;5;124mcloud_props_m12m_1Myr622.txt\u001b[39m\u001b[38;5;124m'\u001b[39m)\n\u001b[1;32m      3\u001b[0m idata \u001b[38;5;241m=\u001b[39m ascii\u001b[38;5;241m.\u001b[39mread(cloud_path \u001b[38;5;241m+\u001b[39m \u001b[38;5;124m'\u001b[39m\u001b[38;5;124mcloud_indices_m12m_1Myr622.txt\u001b[39m\u001b[38;5;124m'\u001b[39m)\n",
      "\u001b[0;31mAttributeError\u001b[0m: 'builtin_function_or_method' object has no attribute 'read'"
     ]
    }
   ],
   "source": [
    "cloud_path = '/home1/09528/sumbarger/GMC_project/Cloud_1Myr618-626/'\n",
    "data = ascii.read(cloud_path + 'cloud_props_m12m_1Myr622.txt')\n",
    "idata = ascii.read(cloud_path + 'cloud_indices_m12m_1Myr622.txt')"
   ]
  },
  {
   "cell_type": "code",
   "execution_count": null,
   "id": "f1e1c244-9531-4125-a583-1132fa8aad84",
   "metadata": {},
   "outputs": [],
   "source": []
  }
 ],
 "metadata": {
  "kernelspec": {
   "display_name": "Python 3 (ipykernel)",
   "language": "python",
   "name": "python3"
  },
  "language_info": {
   "codemirror_mode": {
    "name": "ipython",
    "version": 3
   },
   "file_extension": ".py",
   "mimetype": "text/x-python",
   "name": "python",
   "nbconvert_exporter": "python",
   "pygments_lexer": "ipython3",
   "version": "3.10.9"
  }
 },
 "nbformat": 4,
 "nbformat_minor": 5
}
